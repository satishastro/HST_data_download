{
 "cells": [
  {
   "cell_type": "code",
   "execution_count": null,
   "id": "908279ec",
   "metadata": {},
   "outputs": [],
   "source": [
    "\"\"\"\n",
    "Python script to download HST data from archive.stsci.edu using FTPS\n",
    "\n",
    "This script work after getting email that Retrieval status for request anonymousxxxxx \n",
    "\n",
    "\"\"\"\n",
    "\n",
    "\n",
    "import ftplib\n",
    "import getpass\n",
    "\n",
    "# Securely prompt for the user's password\n",
    "user = 'anonymous'\n",
    "passwd = getpass.getpass(\"Enter your FTP password (usually your email address): \")\n",
    "\n",
    "# Establish a TLS connection\n",
    "ftps = ftplib.FTP_TLS('archive.stsci.edu')\n",
    "\n",
    "# Set debugging level\n",
    "ftps.set_debuglevel(2)\n",
    "\n",
    "try:\n",
    "    # Connect to the FTP server\n",
    "    ftps.connect()\n",
    "    \n",
    "    # Upgrade the connection to TLS\n",
    "    ftps.auth()\n",
    "    \n",
    "    # Log in with the provided credentials\n",
    "    ftps.login(user=user, passwd=passwd)\n",
    "    \n",
    "    # Switch to secure data connection mode\n",
    "    ftps.prot_p()\n",
    "    \n",
    "    # Navigate to the desired directory\n",
    "    ftps.cwd('stage')\n",
    "    stagedir = 'anonymous/anonymous16110'  # Replace with the actual stagedir\n",
    "    ftps.cwd(stagedir)\n",
    "\n",
    "    # List and retrieve files\n",
    "    filenames = ftps.nlst()\n",
    "    for filename in filenames:\n",
    "        print(\"getting \" + filename)\n",
    "        with open(filename, 'wb') as fp:\n",
    "            ftps.retrbinary(f'RETR {filename}', fp.write)\n",
    "except ftplib.all_errors as e:\n",
    "    print(\"FTP error:\", e)\n",
    "finally:\n",
    "    ftps.quit()\n",
    "    \n",
    "print(\"Process completed.\")\n",
    "\n"
   ]
  }
 ],
 "metadata": {
  "kernelspec": {
   "display_name": "Python 3 (ipykernel)",
   "language": "python",
   "name": "python3"
  },
  "language_info": {
   "codemirror_mode": {
    "name": "ipython",
    "version": 3
   },
   "file_extension": ".py",
   "mimetype": "text/x-python",
   "name": "python",
   "nbconvert_exporter": "python",
   "pygments_lexer": "ipython3",
   "version": "3.10.12"
  }
 },
 "nbformat": 4,
 "nbformat_minor": 5
}
